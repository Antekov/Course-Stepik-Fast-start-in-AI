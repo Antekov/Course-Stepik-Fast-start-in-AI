{
  "nbformat": 4,
  "nbformat_minor": 0,
  "metadata": {
    "colab": {
      "name": "1.3.ipynb",
      "provenance": [],
      "collapsed_sections": [],
      "mount_file_id": "1gOHzYXkUk60l3AivjGi6-9hM-nRy1HQ8",
      "authorship_tag": "ABX9TyMbZrlKADKSypPLtlz8RbIZ",
      "include_colab_link": true
    },
    "kernelspec": {
      "name": "python3",
      "display_name": "Python 3"
    }
  },
  "cells": [
    {
      "cell_type": "markdown",
      "metadata": {
        "id": "view-in-github",
        "colab_type": "text"
      },
      "source": [
        "<a href=\"https://colab.research.google.com/github/Antekov/Course-Stepik-Fast-start-in-AI/blob/master/homework/1_3.ipynb\" target=\"_parent\"><img src=\"https://colab.research.google.com/assets/colab-badge.svg\" alt=\"Open In Colab\"/></a>"
      ]
    },
    {
      "cell_type": "markdown",
      "metadata": {
        "id": "j0pE8xueOEGU"
      },
      "source": [
        "# Задание 1.3.1\n",
        "В задаче бинарной классификации имеется 10 объектов. Истинные классы объектов описываются массивом `[0,1,1,0,0,1,1,0,0,0]`. Ответы, предсказанные алгоритмом машинного обучения, равны соответственно `[0,1,1,0,0,1,0,1,0,1]`. Вычислите значение метрики Precision. Ответ представьте в виде десятичной дроби.\n",
        "\n",
        "---\n",
        "## Решение\n",
        "\n",
        "У нас есть два класса &mdash; нулевой и первый. Некоторый алгоритм относит любой подаваемый ему объект к одному из этих классов.\n",
        "\n",
        "$TP$ (True Positive) &mdash; число правильно отнесенных к первому классу объектов.\n",
        "\n",
        "$FP$ (False Positive) &mdash; число отнесенных к первому классу объектов, которые на самом деле относятся к нулевому классу.\n",
        "\n",
        "$Precision$ &mdash; отношение числа правильно отнесенных к первому классу объектов к общему числу обектов, отнесенных к первому классу\n",
        "\n",
        "$$ Precision = {\\frac {TP} {TP + FP}} $$\n",
        "\n",
        "Исходные данные задачи:"
      ]
    },
    {
      "cell_type": "code",
      "metadata": {
        "id": "xXCJELWYNnF7"
      },
      "source": [
        "y     = [0,1,1,0,0,1,1,0,0,0]\n",
        "y_hat = [0,1,1,0,0,1,0,1,0,1]"
      ],
      "execution_count": null,
      "outputs": []
    },
    {
      "cell_type": "markdown",
      "metadata": {
        "id": "_iyCbSHUVRrR"
      },
      "source": [
        "Сумма $(TP+FP)$ &mdash; это количесиво единиц в массиве `y_hat` "
      ]
    },
    {
      "cell_type": "code",
      "metadata": {
        "id": "nAZYdrY4VnSh",
        "outputId": "dfb50bfa-6968-4ce6-b46b-afd28a17b34f",
        "colab": {
          "base_uri": "https://localhost:8080/",
          "height": 34
        }
      },
      "source": [
        "TP_FP = sum(y_hat)\n",
        "TP_FP"
      ],
      "execution_count": null,
      "outputs": [
        {
          "output_type": "execute_result",
          "data": {
            "text/plain": [
              "5"
            ]
          },
          "metadata": {
            "tags": []
          },
          "execution_count": 15
        }
      ]
    },
    {
      "cell_type": "markdown",
      "metadata": {
        "id": "wDV8DvTpVupp"
      },
      "source": [
        "$TP$ можно посчитать как количество единиц в массиве, полученном при поэлементной операции AND для `y` и `y_hat`\n"
      ]
    },
    {
      "cell_type": "code",
      "metadata": {
        "id": "quHCZ5rBWDfh",
        "outputId": "aaaeff10-5ab0-4493-c81e-8a0af54cd95d",
        "colab": {
          "base_uri": "https://localhost:8080/",
          "height": 34
        }
      },
      "source": [
        "import numpy as np\n",
        "y = np.array(y)\n",
        "y_hat = np.array(y_hat)\n",
        "\n",
        "y & y_hat"
      ],
      "execution_count": null,
      "outputs": [
        {
          "output_type": "execute_result",
          "data": {
            "text/plain": [
              "array([0, 1, 1, 0, 0, 1, 0, 0, 0, 0])"
            ]
          },
          "metadata": {
            "tags": []
          },
          "execution_count": 16
        }
      ]
    },
    {
      "cell_type": "code",
      "metadata": {
        "id": "u33bz5rwWf_A",
        "outputId": "df4c6ecd-3e0d-407e-c6be-0c925ced07b4",
        "colab": {
          "base_uri": "https://localhost:8080/",
          "height": 34
        }
      },
      "source": [
        "TP = int(sum(y & y_hat))\n",
        "TP"
      ],
      "execution_count": null,
      "outputs": [
        {
          "output_type": "execute_result",
          "data": {
            "text/plain": [
              "3"
            ]
          },
          "metadata": {
            "tags": []
          },
          "execution_count": 17
        }
      ]
    },
    {
      "cell_type": "markdown",
      "metadata": {
        "id": "bBlQNBmLXrC6"
      },
      "source": [
        "Для ответа в виде обыкновенной дроби воспользуемся библиотекой *sympy* "
      ]
    },
    {
      "cell_type": "code",
      "metadata": {
        "id": "T0eX0Cx7W2NB"
      },
      "source": [
        "import sympy as sm"
      ],
      "execution_count": null,
      "outputs": []
    },
    {
      "cell_type": "code",
      "metadata": {
        "id": "P-p9ugy3W7Tp",
        "outputId": "11c5dba4-55e2-43cc-96e9-1291a25f0c3c",
        "colab": {
          "base_uri": "https://localhost:8080/",
          "height": 34
        }
      },
      "source": [
        "Answer = sm.Rational(TP, TP_FP)\n",
        "Answer"
      ],
      "execution_count": null,
      "outputs": [
        {
          "output_type": "execute_result",
          "data": {
            "text/plain": [
              "3/5"
            ]
          },
          "metadata": {
            "tags": []
          },
          "execution_count": 19
        }
      ]
    },
    {
      "cell_type": "code",
      "metadata": {
        "id": "kZRofjlrX9Lk",
        "outputId": "a4f4c36c-dcbb-4520-9ac4-29de5f648b2b",
        "colab": {
          "base_uri": "https://localhost:8080/",
          "height": 34
        }
      },
      "source": [
        "Precision = float(Answer)\n",
        "Precision"
      ],
      "execution_count": null,
      "outputs": [
        {
          "output_type": "execute_result",
          "data": {
            "text/plain": [
              "0.6"
            ]
          },
          "metadata": {
            "tags": []
          },
          "execution_count": 20
        }
      ]
    },
    {
      "cell_type": "markdown",
      "metadata": {
        "id": "ofBoLvmh98OU"
      },
      "source": [
        "# Задание 1.3.2\n",
        "\n",
        "В задаче бинарной классификации имеется 10 объектов. Истинные классы объектов описываются массивом `[0,1,1,0,0,1,1,0,0,0]`. Ответы, предсказанные алгоритмом машинного обучения, равны соответственно `[0,1,1,0,0,1,0,1,0,1]`. Вычислите значение метрики Recall. Ответ представьте в виде десятичной дроби.\n",
        "\n",
        "---\n",
        "\n",
        "## Решение\n",
        "\n",
        "$TP$ (True Positive) &mdash; число правильно отнесенных к первому классу объектов.\n",
        "\n",
        "$FN$ (False Positive) &mdash; число отнесенных к нулевом классу объектов, которые на самом деле относятся к первому классу.\n",
        "\n",
        "$Recall$ &mdash; отношение числа правильно отнесенных к первому классу объектов к общему числу объектов, которые на самом деле относятся к первому классу\n",
        "\n",
        "$$ Recall = \\frac {TP} {TP + FN} $$\n",
        "\n",
        "Сумма $(TP+FN)$ &mdash; это количество единиц в массиве `y` "
      ]
    },
    {
      "cell_type": "code",
      "metadata": {
        "id": "jbfSVbzi_73j",
        "outputId": "312a99dc-5784-4bcd-f2d4-83d7c524a231",
        "colab": {
          "base_uri": "https://localhost:8080/",
          "height": 34
        }
      },
      "source": [
        "TP_FN = int(sum(y))\n",
        "TP_FN"
      ],
      "execution_count": null,
      "outputs": [
        {
          "output_type": "execute_result",
          "data": {
            "text/plain": [
              "4"
            ]
          },
          "metadata": {
            "tags": []
          },
          "execution_count": 21
        }
      ]
    },
    {
      "cell_type": "code",
      "metadata": {
        "id": "iELf7E_HAmUh",
        "outputId": "6230b773-5a6b-4f41-e233-c20ecace070c",
        "colab": {
          "base_uri": "https://localhost:8080/",
          "height": 34
        }
      },
      "source": [
        "Answer = sm.Rational(TP, TP_FN)\n",
        "Answer"
      ],
      "execution_count": null,
      "outputs": [
        {
          "output_type": "execute_result",
          "data": {
            "text/plain": [
              "3/4"
            ]
          },
          "metadata": {
            "tags": []
          },
          "execution_count": 22
        }
      ]
    },
    {
      "cell_type": "code",
      "metadata": {
        "id": "DcruiHO_Aw4P",
        "outputId": "c2656324-02d6-48e1-bc21-a0f0bb9b9f1e",
        "colab": {
          "base_uri": "https://localhost:8080/",
          "height": 34
        }
      },
      "source": [
        "Recall = float(Answer)\n",
        "Recall"
      ],
      "execution_count": null,
      "outputs": [
        {
          "output_type": "execute_result",
          "data": {
            "text/plain": [
              "0.75"
            ]
          },
          "metadata": {
            "tags": []
          },
          "execution_count": 23
        }
      ]
    },
    {
      "cell_type": "markdown",
      "metadata": {
        "id": "f8ZBFzqZgvEc"
      },
      "source": [
        "# Задание 1.3.3\n",
        "\n",
        "В задаче бинарной классификации имеется 10 объектов. Истинные классы объектов описываются массивом `[0,1,1,0,0,1,1,0,0,0]`. Вероятности, предсказанные алгоритмом машинного обучения, равны соответственно `[0.35, 0.85, 0.75, 0.25, 0.05, 0.45, 0.95, 0.65, 0.15, 0.55]`. Вычислите значение метрики ROC-AUC. Ответ округлите до сотых. Разрешается использовать язык Python.\n",
        "\n",
        "---\n",
        "\n",
        "## Решение\n",
        "\n",
        "Создадим таблицу номерами объектов, предсказанными моделью вероятностями отнесения к классу 1 и истинным классом каждого объекта."
      ]
    },
    {
      "cell_type": "code",
      "metadata": {
        "id": "WwBTm8rviLHe",
        "outputId": "bed3769f-4169-48dd-f041-9b191e381bb3",
        "colab": {
          "base_uri": "https://localhost:8080/",
          "height": 343
        }
      },
      "source": [
        "import pandas as pd\n",
        "\n",
        "y = [0,1,1,0,0,1,1,0,0,0]\n",
        "y_hat = [0.35, 0.85, 0.75, 0.25, 0.05, 0.45, 0.95, 0.65, 0.15, 0.55]\n",
        "\n",
        "df = pd.DataFrame({'index': list(range(1, len(y)+1)), 'y_hat': y_hat, 'y': y})\n",
        "df"
      ],
      "execution_count": null,
      "outputs": [
        {
          "output_type": "execute_result",
          "data": {
            "text/html": [
              "<div>\n",
              "<style scoped>\n",
              "    .dataframe tbody tr th:only-of-type {\n",
              "        vertical-align: middle;\n",
              "    }\n",
              "\n",
              "    .dataframe tbody tr th {\n",
              "        vertical-align: top;\n",
              "    }\n",
              "\n",
              "    .dataframe thead th {\n",
              "        text-align: right;\n",
              "    }\n",
              "</style>\n",
              "<table border=\"1\" class=\"dataframe\">\n",
              "  <thead>\n",
              "    <tr style=\"text-align: right;\">\n",
              "      <th></th>\n",
              "      <th>index</th>\n",
              "      <th>y_hat</th>\n",
              "      <th>y</th>\n",
              "    </tr>\n",
              "  </thead>\n",
              "  <tbody>\n",
              "    <tr>\n",
              "      <th>0</th>\n",
              "      <td>1</td>\n",
              "      <td>0.35</td>\n",
              "      <td>0</td>\n",
              "    </tr>\n",
              "    <tr>\n",
              "      <th>1</th>\n",
              "      <td>2</td>\n",
              "      <td>0.85</td>\n",
              "      <td>1</td>\n",
              "    </tr>\n",
              "    <tr>\n",
              "      <th>2</th>\n",
              "      <td>3</td>\n",
              "      <td>0.75</td>\n",
              "      <td>1</td>\n",
              "    </tr>\n",
              "    <tr>\n",
              "      <th>3</th>\n",
              "      <td>4</td>\n",
              "      <td>0.25</td>\n",
              "      <td>0</td>\n",
              "    </tr>\n",
              "    <tr>\n",
              "      <th>4</th>\n",
              "      <td>5</td>\n",
              "      <td>0.05</td>\n",
              "      <td>0</td>\n",
              "    </tr>\n",
              "    <tr>\n",
              "      <th>5</th>\n",
              "      <td>6</td>\n",
              "      <td>0.45</td>\n",
              "      <td>1</td>\n",
              "    </tr>\n",
              "    <tr>\n",
              "      <th>6</th>\n",
              "      <td>7</td>\n",
              "      <td>0.95</td>\n",
              "      <td>1</td>\n",
              "    </tr>\n",
              "    <tr>\n",
              "      <th>7</th>\n",
              "      <td>8</td>\n",
              "      <td>0.65</td>\n",
              "      <td>0</td>\n",
              "    </tr>\n",
              "    <tr>\n",
              "      <th>8</th>\n",
              "      <td>9</td>\n",
              "      <td>0.15</td>\n",
              "      <td>0</td>\n",
              "    </tr>\n",
              "    <tr>\n",
              "      <th>9</th>\n",
              "      <td>10</td>\n",
              "      <td>0.55</td>\n",
              "      <td>0</td>\n",
              "    </tr>\n",
              "  </tbody>\n",
              "</table>\n",
              "</div>"
            ],
            "text/plain": [
              "   index  y_hat  y\n",
              "0      1   0.35  0\n",
              "1      2   0.85  1\n",
              "2      3   0.75  1\n",
              "3      4   0.25  0\n",
              "4      5   0.05  0\n",
              "5      6   0.45  1\n",
              "6      7   0.95  1\n",
              "7      8   0.65  0\n",
              "8      9   0.15  0\n",
              "9     10   0.55  0"
            ]
          },
          "metadata": {
            "tags": []
          },
          "execution_count": 24
        }
      ]
    },
    {
      "cell_type": "markdown",
      "metadata": {
        "id": "LZIN7nltit48"
      },
      "source": [
        "Отсортируем таблицу по возрастанию вероятности"
      ]
    },
    {
      "cell_type": "code",
      "metadata": {
        "id": "Ajl8HnBpi41x",
        "outputId": "104bceac-a913-4cbb-eb45-7ce16bfcf2c2",
        "colab": {
          "base_uri": "https://localhost:8080/",
          "height": 343
        }
      },
      "source": [
        "df = df.sort_values('y_hat', ascending=False)\n",
        "df"
      ],
      "execution_count": null,
      "outputs": [
        {
          "output_type": "execute_result",
          "data": {
            "text/html": [
              "<div>\n",
              "<style scoped>\n",
              "    .dataframe tbody tr th:only-of-type {\n",
              "        vertical-align: middle;\n",
              "    }\n",
              "\n",
              "    .dataframe tbody tr th {\n",
              "        vertical-align: top;\n",
              "    }\n",
              "\n",
              "    .dataframe thead th {\n",
              "        text-align: right;\n",
              "    }\n",
              "</style>\n",
              "<table border=\"1\" class=\"dataframe\">\n",
              "  <thead>\n",
              "    <tr style=\"text-align: right;\">\n",
              "      <th></th>\n",
              "      <th>index</th>\n",
              "      <th>y_hat</th>\n",
              "      <th>y</th>\n",
              "    </tr>\n",
              "  </thead>\n",
              "  <tbody>\n",
              "    <tr>\n",
              "      <th>6</th>\n",
              "      <td>7</td>\n",
              "      <td>0.95</td>\n",
              "      <td>1</td>\n",
              "    </tr>\n",
              "    <tr>\n",
              "      <th>1</th>\n",
              "      <td>2</td>\n",
              "      <td>0.85</td>\n",
              "      <td>1</td>\n",
              "    </tr>\n",
              "    <tr>\n",
              "      <th>2</th>\n",
              "      <td>3</td>\n",
              "      <td>0.75</td>\n",
              "      <td>1</td>\n",
              "    </tr>\n",
              "    <tr>\n",
              "      <th>7</th>\n",
              "      <td>8</td>\n",
              "      <td>0.65</td>\n",
              "      <td>0</td>\n",
              "    </tr>\n",
              "    <tr>\n",
              "      <th>9</th>\n",
              "      <td>10</td>\n",
              "      <td>0.55</td>\n",
              "      <td>0</td>\n",
              "    </tr>\n",
              "    <tr>\n",
              "      <th>5</th>\n",
              "      <td>6</td>\n",
              "      <td>0.45</td>\n",
              "      <td>1</td>\n",
              "    </tr>\n",
              "    <tr>\n",
              "      <th>0</th>\n",
              "      <td>1</td>\n",
              "      <td>0.35</td>\n",
              "      <td>0</td>\n",
              "    </tr>\n",
              "    <tr>\n",
              "      <th>3</th>\n",
              "      <td>4</td>\n",
              "      <td>0.25</td>\n",
              "      <td>0</td>\n",
              "    </tr>\n",
              "    <tr>\n",
              "      <th>8</th>\n",
              "      <td>9</td>\n",
              "      <td>0.15</td>\n",
              "      <td>0</td>\n",
              "    </tr>\n",
              "    <tr>\n",
              "      <th>4</th>\n",
              "      <td>5</td>\n",
              "      <td>0.05</td>\n",
              "      <td>0</td>\n",
              "    </tr>\n",
              "  </tbody>\n",
              "</table>\n",
              "</div>"
            ],
            "text/plain": [
              "   index  y_hat  y\n",
              "6      7   0.95  1\n",
              "1      2   0.85  1\n",
              "2      3   0.75  1\n",
              "7      8   0.65  0\n",
              "9     10   0.55  0\n",
              "5      6   0.45  1\n",
              "0      1   0.35  0\n",
              "3      4   0.25  0\n",
              "8      9   0.15  0\n",
              "4      5   0.05  0"
            ]
          },
          "metadata": {
            "tags": []
          },
          "execution_count": 35
        }
      ]
    },
    {
      "cell_type": "markdown",
      "metadata": {
        "id": "DmUz4FtIkKJ6"
      },
      "source": [
        "Посчитаем, сколько у нас объектов каждого класса"
      ]
    },
    {
      "cell_type": "code",
      "metadata": {
        "id": "xmYUyriskQ6h",
        "outputId": "f0d90a83-0a4d-46d5-a12d-72afb20fdc55",
        "colab": {
          "base_uri": "https://localhost:8080/",
          "height": 34
        }
      },
      "source": [
        "class_objects = dict(df.y.value_counts())\n",
        "class_objects"
      ],
      "execution_count": null,
      "outputs": [
        {
          "output_type": "execute_result",
          "data": {
            "text/plain": [
              "{0: 6, 1: 4}"
            ]
          },
          "metadata": {
            "tags": []
          },
          "execution_count": 26
        }
      ]
    },
    {
      "cell_type": "markdown",
      "metadata": {
        "id": "shcFi185l5k-"
      },
      "source": [
        "Тогда квадрат с единичной стороной по вертикали разбивается на 4 уровня, а по горизонтали - на 6. Всего образуется 6*4 = 24 клетки. Площадь одной клетки будет равна:\n"
      ]
    },
    {
      "cell_type": "code",
      "metadata": {
        "id": "envklcSjmWGA",
        "outputId": "420074f3-8c42-4e72-de3f-3c8296664849",
        "colab": {
          "base_uri": "https://localhost:8080/",
          "height": 34
        }
      },
      "source": [
        "cell_square = 1 / np.prod(list(class_objects.values()))\n",
        "cell_square"
      ],
      "execution_count": null,
      "outputs": [
        {
          "output_type": "execute_result",
          "data": {
            "text/plain": [
              "0.041666666666666664"
            ]
          },
          "metadata": {
            "tags": []
          },
          "execution_count": 29
        }
      ]
    },
    {
      "cell_type": "markdown",
      "metadata": {
        "id": "1mwnnTJNnd_H"
      },
      "source": [
        "Теперь будем двигаться по столбцу `y` и для каждой единицы будем увеличивать площадь столбца на одну ячейку, а для каждого нуля увеличивать общую площадь на площадь столбца \n"
      ]
    },
    {
      "cell_type": "code",
      "metadata": {
        "id": "RFySf2jToGoI",
        "outputId": "1e30203b-0acf-4b35-fdcf-7c4687c2a85e",
        "colab": {
          "base_uri": "https://localhost:8080/",
          "height": 252
        }
      },
      "source": [
        "total_cells = 0\n",
        "column_cells = 0\n",
        "for y in df.y:\n",
        "  print(f'y = {y}: ', end='')\n",
        "  if y == 1:\n",
        "    column_cells += 1\n",
        "    print(f'c = {column_cells}')\n",
        "  else:\n",
        "    total_cells += column_cells\n",
        "    print(f't = {total_cells}')\n",
        "\n",
        "print(f'\\ntotal cells = {total_cells}')\n",
        "print(f'cell_square = {cell_square}')\n",
        "print(f'roc_auc = {round(total_cells*cell_square, 2)}')  "
      ],
      "execution_count": null,
      "outputs": [
        {
          "output_type": "stream",
          "text": [
            "y = 1: c = 1\n",
            "y = 1: c = 2\n",
            "y = 1: c = 3\n",
            "y = 0: t = 3\n",
            "y = 0: t = 6\n",
            "y = 1: c = 4\n",
            "y = 0: t = 10\n",
            "y = 0: t = 14\n",
            "y = 0: t = 18\n",
            "y = 0: t = 22\n",
            "\n",
            "total cells = 22\n",
            "cell_square = 0.041666666666666664\n",
            "roc_auc = 0.92\n"
          ],
          "name": "stdout"
        }
      ]
    },
    {
      "cell_type": "markdown",
      "metadata": {
        "id": "oD0K1Zxfserg"
      },
      "source": [
        "# Задание 1.3.4\n",
        "\n",
        "В задаче регрессии имеется 5 объектов. Истинные значения целевой переменной равны `[10, 2, -1, 3, 7]`. Ответы, предсказанные алгоритмом машинного обучения, равны соответственно `[8, 1, 3, -1, 6]`. Вычислите значение метрики $Mean Squared Error$. Ответ представьте в виде десятичной дроби.\n",
        "\n",
        "---\n",
        "\n",
        "## Решение\n",
        "\n",
        "Данные задачи"
      ]
    },
    {
      "cell_type": "code",
      "metadata": {
        "id": "XRAuqRIstKsa",
        "outputId": "0ce362d5-0784-426e-8502-b8e166155e40",
        "colab": {
          "base_uri": "https://localhost:8080/",
          "height": 34
        }
      },
      "source": [
        "y = np.array([10, 2, -1, 3, 7])\n",
        "y_hat = np.array([8, 1, 3, -1, 6])\n",
        "\n",
        "MSE = sum((y - y_hat)**2) / len(y)\n",
        "MSE"
      ],
      "execution_count": null,
      "outputs": [
        {
          "output_type": "execute_result",
          "data": {
            "text/plain": [
              "7.6"
            ]
          },
          "metadata": {
            "tags": []
          },
          "execution_count": 55
        }
      ]
    }
  ]
}