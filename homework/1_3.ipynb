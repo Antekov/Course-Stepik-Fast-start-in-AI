{
  "nbformat": 4,
  "nbformat_minor": 0,
  "metadata": {
    "colab": {
      "name": "1.3.ipynb",
      "provenance": [],
      "collapsed_sections": [],
      "authorship_tag": "ABX9TyNcl/RoSsgWoiCuQ3r+UU2F",
      "include_colab_link": true
    },
    "kernelspec": {
      "name": "python3",
      "display_name": "Python 3"
    }
  },
  "cells": [
    {
      "cell_type": "markdown",
      "metadata": {
        "id": "view-in-github",
        "colab_type": "text"
      },
      "source": [
        "<a href=\"https://colab.research.google.com/github/Antekov/Course-Stepik-Fast-start-in-AI/blob/master/homework/1_3.ipynb\" target=\"_parent\"><img src=\"https://colab.research.google.com/assets/colab-badge.svg\" alt=\"Open In Colab\"/></a>"
      ]
    },
    {
      "cell_type": "markdown",
      "metadata": {
        "id": "j0pE8xueOEGU"
      },
      "source": [
        "# Задание 1.3.1\n",
        "В задаче бинарной классификации имеется 10 объектов. Истинные классы объектов описываются массивом `[0,1,1,0,0,1,1,0,0,0]`. Ответы, предсказанные алгоритмом машинного обучения, равны соответственно `[0,1,1,0,0,1,0,1,0,1]`. Вычислите значение метрики Precision. Ответ представьте в виде десятичной дроби.\n",
        "\n",
        "---\n",
        "## Решение\n",
        "\n",
        "У нас есть два класса &mdash; нулевой и первый. Некоторый алгоритм относит любой подаваемый ему объект к одному из этих классов.\n",
        "\n",
        "$TP$ (True Positive) &mdash; число правильно отнесенных к первому классу объектов.\n",
        "\n",
        "$FP$ (False Positive) &mdash; число отнесенных к первому классу объектов, которые на самом деле относятся к нулевому классу.\n",
        "\n",
        "$Precision$ &mdash; отношение числа правильно отнесенных к первому классу объектов к общему числу обектов, отнесенных к первому классу\n",
        "\n",
        "$$ Precision = {\\frac {TP} {TP + FP}} $$\n",
        "\n",
        "Исходные данные задачи:"
      ]
    },
    {
      "cell_type": "code",
      "metadata": {
        "id": "xXCJELWYNnF7"
      },
      "source": [
        "y     = [0,1,1,0,0,1,1,0,0,0]\n",
        "y_hat = [0,1,1,0,0,1,0,1,0,1]"
      ],
      "execution_count": 1,
      "outputs": []
    }
  ]
}